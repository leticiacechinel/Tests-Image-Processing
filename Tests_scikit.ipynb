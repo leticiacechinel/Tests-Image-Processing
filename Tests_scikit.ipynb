{
 "cells": [
  {
   "cell_type": "markdown",
   "metadata": {},
   "source": [
    "## Recortei algumas imagens em suas diferentes labels (imagens so de plantacao, so de floresta etc)"
   ]
  },
  {
   "cell_type": "code",
   "execution_count": 252,
   "metadata": {
    "scrolled": false
   },
   "outputs": [
    {
     "name": "stdout",
     "output_type": "stream",
     "text": [
      "5000\n"
     ]
    }
   ],
   "source": [
    "import matplotlib.pyplot as plt\n",
    "%matplotlib inline\n",
    "import os\n",
    "from os.path import isfile, join\n",
    "import cv2\n",
    "import numpy as np\n",
    "import matplotlib.pyplot as plt\n",
    "from skimage.filters import prewitt_h,prewitt_v\n",
    "\n",
    "from sklearn import preprocessing\n",
    "\n",
    "path = 'imagens/simple-shapes/data'\n",
    "#path = 'imagens/testes_scikit'\n",
    "imagens = []\n",
    "x = []\n",
    "plots = []\n",
    "y = []\n",
    "img_contorno = []\n",
    "\n",
    "\n",
    "for file in  os.listdir(path):\n",
    "    \n",
    "    \n",
    "##### ESSA PARTE EH SOH USADA PRA EXTRAIR LABEL NO CASO DO BANCO DE DADOS DE PECINHA DE LEGO #####    \n",
    "    \n",
    "    #print(join(path, file))\n",
    "#     a=0\n",
    "\n",
    "#     #print(len(file))\n",
    "#     for i in range(len(file)):\n",
    "#         if file[i].isnumeric(): #pega so os numeros do comeco pra caracterizar a peca\n",
    "#             a=a+1\n",
    "#         else:\n",
    "#             break   #assim que vem algo diferente de numero sai do laco\n",
    "\n",
    "#   SALVANDO POR INTENSIDADE DE PIXEL    \n",
    "\n",
    "    y.append(file[0:4])\n",
    "    imagem = cv2.imread(join(path, file),cv2.IMREAD_GRAYSCALE)\n",
    "    imagens.append(imagem)\n",
    "    try:\n",
    "        imagem = cv2.resize(imagem, (50,50), interpolation = cv2.INTER_AREA)\n",
    "    except:\n",
    "        print('erro no arquivo', file)\n",
    "        \n",
    "    #plt.imshow(imagem, cmap = None)\n",
    "    #plt.show()\n",
    "    \n",
    "    imagem = np.array(imagem).flatten()\n",
    "    #x.append(imagem)\n",
    " \n",
    "# ###  SALVANDO POR CONTORNO\n",
    "\n",
    "    image = cv2.imread(join(path, file),cv2.IMREAD_GRAYSCALE)\n",
    "    image = cv2.resize(image, (50,50), interpolation = cv2.INTER_AREA)\n",
    "    #calculating horizontal edges using prewitt kernel\n",
    "    edges_prewitt_horizontal = prewitt_h(image)\n",
    "    #calculating vertical edges using prewitt kernel\n",
    "    edges_prewitt_vertical = prewitt_v(image)\n",
    "    img_contorno.append(edges_prewitt_vertical)\n",
    "    \n",
    "    \n",
    "#     plt.imshow(edges_prewitt_vertical, cmap='gray')\n",
    "#     plt.show()\n",
    "    \n",
    "    edges_prewitt_vertical = np.array(edges_prewitt_vertical).flatten()\n",
    "    \n",
    "    \n",
    "    intens_contorno = np.concatenate((imagem, edges_prewitt_vertical))\n",
    "    x.append(intens_contorno)\n",
    "    \n",
    "\n",
    "\n",
    "print(len(x[1]))\n",
    "\n",
    "## x = Matriz no formato pronto pro treinamento\n",
    "## edges_prewitt_vertical = imagem de contorno, mas tem que dar imshow antes do flatten\n",
    "## imagem = imagem normal em preto e branco\n",
    "\n",
    "## estou concatenando os dois vetores, por intensidade de pixel e por contorno, em um array so e mandando pro treinamento"
   ]
  },
  {
   "cell_type": "markdown",
   "metadata": {},
   "source": [
    "## criando as labels a partir das letras iniciais e fazendo encoder"
   ]
  },
  {
   "cell_type": "code",
   "execution_count": 253,
   "metadata": {},
   "outputs": [
    {
     "name": "stdout",
     "output_type": "stream",
     "text": [
      "['elli', 'circ', 'circ', 'tria', 'elli', 'circ', 'squa', 'rect', 'squa', 'circ', 'elli', 'circ', 'elli', 'tria', 'tria', 'rect', 'elli', 'squa', 'tria', 'elli', 'tria', 'squa', 'tria', 'circ', 'circ', 'squa', 'rect', 'elli', 'elli', 'rect', 'tria', 'tria', 'rect', 'circ', 'rect', 'elli', 'tria', 'tria', 'tria', 'elli', 'circ', 'elli', 'circ', 'elli', 'elli', 'circ', 'tria', 'circ', 'elli', 'circ', 'squa', 'squa', 'tria', 'elli', 'rect', 'rect', 'tria', 'tria', 'elli', 'circ', 'squa', 'circ', 'squa', 'elli', 'tria', 'elli', 'elli', 'rect', 'squa', 'rect', 'rect', 'circ', 'squa', 'circ', 'tria', 'rect', 'tria', 'tria', 'rect', 'tria', 'elli', 'squa', 'tria', 'rect', 'elli', 'circ', 'elli', 'tria', 'elli', 'tria', 'elli', 'circ', 'squa', 'tria', 'tria', 'elli', 'squa', 'rect', 'tria', 'tria', 'elli', 'rect', 'rect', 'circ', 'tria', 'squa', 'circ', 'circ', 'tria', 'rect', 'rect', 'circ', 'rect', 'rect', 'squa', 'elli', 'circ', 'circ', 'rect', 'tria', 'circ', 'tria', 'elli', 'rect', 'circ', 'tria', 'circ', 'tria', 'squa', 'squa', 'circ', 'rect', 'tria', 'squa', 'squa', 'rect', 'tria', 'squa', 'squa', 'tria', 'squa', 'circ', 'rect', 'squa', 'elli', 'circ', 'squa', 'rect', 'circ', 'elli', 'rect', 'circ', 'rect', 'rect', 'circ', 'tria', 'circ', 'squa', 'rect', 'rect', 'circ', 'squa', 'squa', 'elli', 'circ', 'elli', 'elli', 'squa', 'rect', 'circ', 'squa', 'elli', 'squa', 'squa', 'rect', 'squa', 'rect', 'squa', 'rect', 'circ', 'circ', 'elli', 'squa', 'elli', 'tria', 'elli', 'circ', 'tria', 'tria', 'elli', 'squa', 'elli', 'elli', 'tria', 'elli', 'elli', 'rect', 'circ', 'squa', 'squa', 'tria', 'rect', 'tria', 'tria', 'rect', 'elli', 'squa', 'tria', 'circ', 'elli', 'circ', 'rect', 'squa', 'tria', 'squa', 'squa', 'tria', 'rect', 'rect', 'tria', 'squa', 'elli', 'tria', 'rect', 'tria', 'rect', 'elli', 'elli', 'squa', 'rect', 'circ', 'elli', 'circ', 'squa', 'circ', 'squa', 'squa', 'tria', 'rect', 'rect', 'elli', 'rect', 'rect', 'elli', 'tria', 'circ', 'tria', 'tria', 'tria', 'elli', 'elli', 'tria', 'squa', 'circ', 'elli', 'circ', 'squa', 'tria', 'circ', 'squa', 'rect', 'elli', 'squa', 'circ', 'elli', 'elli', 'circ', 'rect', 'elli', 'squa', 'circ', 'circ', 'elli', 'circ', 'circ', 'circ', 'circ', 'rect', 'squa', 'squa', 'elli', 'squa', 'elli', 'circ', 'circ', 'elli', 'rect', 'elli', 'elli', 'elli', 'circ', 'circ', 'squa', 'elli', 'rect', 'squa', 'elli', 'elli', 'elli', 'tria', 'squa', 'circ', 'tria', 'rect', 'rect', 'circ', 'tria', 'elli', 'tria', 'squa', 'elli', 'squa', 'rect', 'elli', 'rect', 'rect', 'squa', 'rect', 'squa', 'elli', 'circ', 'circ', 'elli', 'tria', 'elli', 'circ', 'tria', 'squa', 'tria', 'squa', 'rect', 'circ', 'rect', 'tria', 'elli', 'squa', 'elli', 'circ', 'tria', 'tria', 'rect', 'rect', 'circ', 'elli', 'elli', 'squa', 'rect', 'rect', 'rect', 'rect', 'squa', 'squa', 'tria', 'tria', 'elli', 'elli', 'tria', 'tria', 'tria', 'elli', 'squa', 'squa', 'squa', 'rect', 'elli', 'circ', 'tria', 'squa', 'rect', 'elli', 'rect', 'squa', 'rect', 'squa', 'circ', 'elli', 'rect', 'circ', 'elli', 'circ', 'squa', 'squa', 'squa', 'circ', 'squa', 'circ', 'tria', 'circ', 'squa', 'circ', 'circ', 'tria', 'rect', 'rect', 'tria', 'elli', 'rect', 'tria', 'circ', 'rect', 'tria', 'tria', 'circ', 'squa', 'elli', 'rect', 'squa', 'rect', 'squa', 'squa', 'squa', 'elli', 'tria', 'squa', 'squa', 'elli', 'circ', 'elli', 'squa', 'tria', 'squa', 'squa', 'rect', 'circ', 'tria', 'rect', 'tria', 'elli', 'rect', 'squa', 'rect', 'rect', 'rect', 'circ', 'rect', 'tria', 'tria', 'rect', 'rect', 'squa', 'elli', 'tria', 'tria', 'squa', 'circ', 'tria', 'tria', 'circ', 'tria', 'rect', 'rect', 'squa', 'tria', 'circ', 'rect', 'squa', 'squa', 'circ', 'rect', 'rect', 'circ', 'circ', 'tria', 'circ', 'elli', 'circ', 'tria', 'squa', 'rect', 'rect', 'circ', 'squa', 'squa', 'circ', 'rect', 'tria', 'tria', 'rect', 'circ', 'squa', 'elli', 'circ', 'elli', 'tria', 'elli', 'circ', 'elli', 'rect', 'circ', 'elli', 'tria', 'circ', 'tria', 'rect', 'elli', 'tria', 'rect', 'elli', 'tria', 'squa']\n",
      "[1 0 0 4 1 0 3 2 3 0 1 0 1 4 4 2 1 3 4 1 4 3 4 0 0 3 2 1 1 2 4 4 2 0 2 1 4\n",
      " 4 4 1 0 1 0 1 1 0 4 0 1 0 3 3 4 1 2 2 4 4 1 0 3 0 3 1 4 1 1 2 3 2 2 0 3 0\n",
      " 4 2 4 4 2 4 1 3 4 2 1 0 1 4 1 4 1 0 3 4 4 1 3 2 4 4 1 2 2 0 4 3 0 0 4 2 2\n",
      " 0 2 2 3 1 0 0 2 4 0 4 1 2 0 4 0 4 3 3 0 2 4 3 3 2 4 3 3 4 3 0 2 3 1 0 3 2\n",
      " 0 1 2 0 2 2 0 4 0 3 2 2 0 3 3 1 0 1 1 3 2 0 3 1 3 3 2 3 2 3 2 0 0 1 3 1 4\n",
      " 1 0 4 4 1 3 1 1 4 1 1 2 0 3 3 4 2 4 4 2 1 3 4 0 1 0 2 3 4 3 3 4 2 2 4 3 1\n",
      " 4 2 4 2 1 1 3 2 0 1 0 3 0 3 3 4 2 2 1 2 2 1 4 0 4 4 4 1 1 4 3 0 1 0 3 4 0\n",
      " 3 2 1 3 0 1 1 0 2 1 3 0 0 1 0 0 0 0 2 3 3 1 3 1 0 0 1 2 1 1 1 0 0 3 1 2 3\n",
      " 1 1 1 4 3 0 4 2 2 0 4 1 4 3 1 3 2 1 2 2 3 2 3 1 0 0 1 4 1 0 4 3 4 3 2 0 2\n",
      " 4 1 3 1 0 4 4 2 2 0 1 1 3 2 2 2 2 3 3 4 4 1 1 4 4 4 1 3 3 3 2 1 0 4 3 2 1\n",
      " 2 3 2 3 0 1 2 0 1 0 3 3 3 0 3 0 4 0 3 0 0 4 2 2 4 1 2 4 0 2 4 4 0 3 1 2 3\n",
      " 2 3 3 3 1 4 3 3 1 0 1 3 4 3 3 2 0 4 2 4 1 2 3 2 2 2 0 2 4 4 2 2 3 1 4 4 3\n",
      " 0 4 4 0 4 2 2 3 4 0 2 3 3 0 2 2 0 0 4 0 1 0 4 3 2 2 0 3 3 0 2 4 4 2 0 3 1\n",
      " 0 1 4 1 0 1 2 0 1 4 0 4 2 1 4 2 1 4 3]\n"
     ]
    }
   ],
   "source": [
    "print(y)\n",
    "le = preprocessing.LabelEncoder()\n",
    "encoded_value = le.fit_transform(y)\n",
    "print(encoded_value)\n",
    "#y = ['mata','mata','plantio','mata','plantio','mata', 'plantio', 'construcao', 'lago', 'plantio', 'plantio', 'lago','plantio']"
   ]
  },
  {
   "cell_type": "code",
   "execution_count": 43,
   "metadata": {},
   "outputs": [
    {
     "name": "stdout",
     "output_type": "stream",
     "text": [
      "40000\n",
      "40000\n"
     ]
    }
   ],
   "source": [
    "print(len(imagens))\n",
    "print(len(y))\n"
   ]
  },
  {
   "cell_type": "code",
   "execution_count": 254,
   "metadata": {},
   "outputs": [],
   "source": [
    "import random\n",
    "from sklearn import ensemble\n",
    "\n",
    "y = encoded_value\n",
    "#x = imagens\n",
    "sample_index=random.sample(range(len(x)),int(len(x)/5)) #20-80\n",
    "valid_index=[i for i in range(len(x)) if i not in sample_index]"
   ]
  },
  {
   "cell_type": "code",
   "execution_count": 255,
   "metadata": {},
   "outputs": [
    {
     "name": "stdout",
     "output_type": "stream",
     "text": [
      "Random Tree Classifier:\n",
      "\n",
      "Score\t0.4325\n"
     ]
    }
   ],
   "source": [
    "sample_images=[x[i] for i in sample_index]\n",
    "valid_images=[x[i] for i in valid_index]\n",
    "\n",
    "#Sample and validation targets\n",
    "sample_target=[y[i] for i in sample_index]\n",
    "valid_target=[y[i] for i in valid_index]\n",
    "\n",
    "#Using the Random Forest Classifier\n",
    "classifier = ensemble.RandomForestClassifier(n_estimators = 5)\n",
    "\n",
    "#Fit model with sample data\n",
    "classifier.fit(sample_images, sample_target)\n",
    "\n",
    "#Attempt to predict validation data\n",
    "score=classifier.score(valid_images, valid_target)\n",
    "print('Random Tree Classifier:\\n')\n",
    "print ('Score\\t'+str(score))"
   ]
  },
  {
   "cell_type": "code",
   "execution_count": 175,
   "metadata": {},
   "outputs": [
    {
     "name": "stdout",
     "output_type": "stream",
     "text": [
      "['mata']\n"
     ]
    },
    {
     "data": {
      "text/plain": [
       "<Figure size 432x288 with 0 Axes>"
      ]
     },
     "metadata": {},
     "output_type": "display_data"
    },
    {
     "data": {
      "image/png": "[encoded data removed]",
      "text/plain": [
       "<Figure size 288x392.727 with 1 Axes>"
      ]
     },
     "metadata": {
      "needs_background": "light"
     },
     "output_type": "display_data"
    }
   ],
   "source": [
    "import pandas as pd\n",
    "import numpy as np\n",
    "\n",
    "i=13\n",
    "plt.gray() \n",
    "\n",
    "plt.matshow(imagens[i])\n",
    "x[i] =x[i].reshape(1,-1)\n",
    "print(classifier.predict(x[i]))"
   ]
  },
  {
   "cell_type": "code",
   "execution_count": 256,
   "metadata": {},
   "outputs": [
    {
     "data": {
      "text/plain": [
       "MLPClassifier(activation='relu', alpha=1e-05, batch_size='auto', beta_1=0.9,\n",
       "              beta_2=0.999, early_stopping=False, epsilon=1e-08,\n",
       "              hidden_layer_sizes=(500, 200, 100, 10, 5),\n",
       "              learning_rate='constant', learning_rate_init=0.01, max_iter=1000,\n",
       "              momentum=0.9, n_iter_no_change=10, nesterovs_momentum=True,\n",
       "              power_t=0.5, random_state=1, shuffle=True, solver='lbfgs',\n",
       "              tol=0.0001, validation_fraction=0.1, verbose=False,\n",
       "              warm_start=False)"
      ]
     },
     "execution_count": 256,
     "metadata": {},
     "output_type": "execute_result"
    }
   ],
   "source": [
    "from sklearn.neural_network import MLPClassifier\n",
    "\n",
    "sample_images=[x[i] for i in sample_index]\n",
    "valid_images=[x[i] for i in valid_index]\n",
    "\n",
    "#Sample and validation targets\n",
    "sample_target=[y[i] for i in sample_index]\n",
    "valid_target=[y[i] for i in valid_index]\n",
    "\n",
    "#USANDO REDE NEURAL\n",
    "clf = MLPClassifier(solver='lbfgs', alpha=1e-5, hidden_layer_sizes=(500,200,100,10,5), random_state=1, max_iter=1000, \n",
    "                    learning_rate_init=0.01)\n",
    "clf.fit(sample_images, sample_target)"
   ]
  },
  {
   "cell_type": "code",
   "execution_count": 257,
   "metadata": {},
   "outputs": [
    {
     "data": {
      "text/plain": [
       "0.2125"
      ]
     },
     "execution_count": 257,
     "metadata": {},
     "output_type": "execute_result"
    }
   ],
   "source": [
    "clf.score(valid_images, valid_target)"
   ]
  },
  {
   "cell_type": "code",
   "execution_count": null,
   "metadata": {},
   "outputs": [],
   "source": [
    "# #22 por cento\n",
    "# from sklearn.neural_network import MLPClassifier\n",
    "# clf = MLPClassifier(solver='lbfgs', alpha=1e-5, hidden_layer_sizes=(54, 36, 18), random_state=1, max_iter=1000, \n",
    "#                     learning_rate_init=0.01)\n",
    "# clf.fit(sample_images, sample_target)"
   ]
  },
  {
   "cell_type": "code",
   "execution_count": 194,
   "metadata": {},
   "outputs": [
    {
     "name": "stdout",
     "output_type": "stream",
     "text": [
      "['3002']\n"
     ]
    },
    {
     "data": {
      "image/png": "[encoded data removed]",
      "text/plain": [
       "<Figure size 288x288 with 1 Axes>"
      ]
     },
     "metadata": {
      "needs_background": "light"
     },
     "output_type": "display_data"
    }
   ],
   "source": [
    "i = 1000\n",
    "#clf.predict(x[1])\n",
    "plt.matshow(imagens[i])\n",
    "x[i] =x[i].reshape(1,-1)\n",
    "print(clf.predict(x[i]))\n",
    "#clf.score(valid_images, valid_target)"
   ]
  },
  {
   "cell_type": "code",
   "execution_count": null,
   "metadata": {},
   "outputs": [],
   "source": []
  }
 ],
 "metadata": {
  "kernelspec": {
   "display_name": "Python [conda env:ambi] *",
   "language": "python",
   "name": "conda-env-ambi-py"
  },
  "language_info": {
   "codemirror_mode": {
    "name": "ipython",
    "version": 3
   },
   "file_extension": ".py",
   "mimetype": "text/x-python",
   "name": "python",
   "nbconvert_exporter": "python",
   "pygments_lexer": "ipython3",
   "version": "3.7.4"
  }
 },
 "nbformat": 4,
 "nbformat_minor": 2
}
