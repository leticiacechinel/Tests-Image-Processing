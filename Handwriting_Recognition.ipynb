{
 "cells": [
  {
   "cell_type": "markdown",
   "metadata": {},
   "source": [
    "# Handwriting Recognition\n",
    "\n",
    "## Author: Syed (Sadat) Nazrul"
   ]
  },
  {
   "cell_type": "markdown",
   "metadata": {},
   "source": [
    "This tutorial does Handwriting Recognition using a Random Forest Classifier. Here is the accompanying video for this tutorial: [youtube video](https://www.youtube.com/watch?v=PO4hePKWIGQ).  If you want the same thing using logistic regression, see this [notebook](https://github.com/mGalarnyk/Python_Tutorials/blob/master/Sklearn/Logistic_Regression/LogisticRegression_toy_digits.ipynb) and [youtube video](https://www.youtube.com/watch?v=71iXeuKFcQM&t=1s)"
   ]
  },
  {
   "cell_type": "markdown",
   "metadata": {},
   "source": [
    "#### Import libraries and dataset from Scikit-Learn"
   ]
  },
  {
   "cell_type": "code",
   "execution_count": 22,
   "metadata": {},
   "outputs": [],
   "source": [
    "import matplotlib.pyplot as plt\n",
    "%matplotlib inline\n",
    "from sklearn.datasets import load_digits\n",
    "\n",
    "digits = load_digits()"
   ]
  },
  {
   "cell_type": "markdown",
   "metadata": {},
   "source": [
    "#### Analyze a sample image"
   ]
  },
  {
   "cell_type": "code",
   "execution_count": 23,
   "metadata": {},
   "outputs": [
    {
     "data": {
      "text/plain": [
       "<Figure size 432x288 with 0 Axes>"
      ]
     },
     "metadata": {},
     "output_type": "display_data"
    },
    {
     "data": {
      "image/png": "[encoded data removed]",
      "text/plain": [
       "<Figure size 288x288 with 1 Axes>"
      ]
     },
     "metadata": {
      "needs_background": "light"
     },
     "output_type": "display_data"
    }
   ],
   "source": [
    "import pylab as pl \n",
    "pl.gray() \n",
    "pl.matshow(digits.images[0]) \n",
    "pl.show() "
   ]
  },
  {
   "cell_type": "markdown",
   "metadata": {},
   "source": [
    "#### Analyze image pixels\n",
    "\n",
    "Each element represents the pixel of our greyscale image. The value ranges from 0 to 255 for an 8 bit pixel."
   ]
  },
  {
   "cell_type": "code",
   "execution_count": 24,
   "metadata": {},
   "outputs": [
    {
     "data": {
      "text/plain": [
       "array([[ 0.,  0.,  5., 13.,  9.,  1.,  0.,  0.],\n",
       "       [ 0.,  0., 13., 15., 10., 15.,  5.,  0.],\n",
       "       [ 0.,  3., 15.,  2.,  0., 11.,  8.,  0.],\n",
       "       [ 0.,  4., 12.,  0.,  0.,  8.,  8.,  0.],\n",
       "       [ 0.,  5.,  8.,  0.,  0.,  9.,  8.,  0.],\n",
       "       [ 0.,  4., 11.,  0.,  1., 12.,  7.,  0.],\n",
       "       [ 0.,  2., 14.,  5., 10., 12.,  0.,  0.],\n",
       "       [ 0.,  0.,  6., 13., 10.,  0.,  0.,  0.]])"
      ]
     },
     "execution_count": 24,
     "metadata": {},
     "output_type": "execute_result"
    }
   ],
   "source": [
    "digits.images[0]"
   ]
  },
  {
   "cell_type": "markdown",
   "metadata": {},
   "source": [
    "#### Visualize first 15 images"
   ]
  },
  {
   "cell_type": "code",
   "execution_count": 25,
   "metadata": {},
   "outputs": [
    {
     "name": "stdout",
     "output_type": "stream",
     "text": [
      "(array([[ 0.,  0.,  5., 13.,  9.,  1.,  0.,  0.],\n",
      "       [ 0.,  0., 13., 15., 10., 15.,  5.,  0.],\n",
      "       [ 0.,  3., 15.,  2.,  0., 11.,  8.,  0.],\n",
      "       [ 0.,  4., 12.,  0.,  0.,  8.,  8.,  0.],\n",
      "       [ 0.,  5.,  8.,  0.,  0.,  9.,  8.,  0.],\n",
      "       [ 0.,  4., 11.,  0.,  1., 12.,  7.,  0.],\n",
      "       [ 0.,  2., 14.,  5., 10., 12.,  0.,  0.],\n",
      "       [ 0.,  0.,  6., 13., 10.,  0.,  0.,  0.]]), 0)\n"
     ]
    },
    {
     "data": {
      "image/png": "[encoded data removed]",
      "text/plain": [
       "<Figure size 360x360 with 15 Axes>"
      ]
     },
     "metadata": {
      "needs_background": "light"
     },
     "output_type": "display_data"
    }
   ],
   "source": [
    "images_and_labels = list(zip(digits.images, digits.target))\n",
    "plt.figure(figsize=(5,5))\n",
    "print(images_and_labels[0])\n",
    "for index, (image, label) in enumerate(images_and_labels[:15]):\n",
    "    plt.subplot(3, 5, index + 1)\n",
    "    plt.axis('off')\n",
    "    plt.imshow(image, cmap=plt.cm.gray_r, interpolation='nearest')\n",
    "    plt.title('%i' % label)"
   ]
  },
  {
   "cell_type": "code",
   "execution_count": 17,
   "metadata": {},
   "outputs": [
    {
     "name": "stdout",
     "output_type": "stream",
     "text": [
      "[[ 0.  0.  0. 12. 13.  5.  0.  0.]\n",
      " [ 0.  0.  0. 11. 16.  9.  0.  0.]\n",
      " [ 0.  0.  3. 15. 16.  6.  0.  0.]\n",
      " [ 0.  7. 15. 16. 16.  2.  0.  0.]\n",
      " [ 0.  0.  1. 16. 16.  3.  0.  0.]\n",
      " [ 0.  0.  1. 16. 16.  6.  0.  0.]\n",
      " [ 0.  0.  1. 16. 16.  6.  0.  0.]\n",
      " [ 0.  0.  0. 11. 16. 10.  0.  0.]]\n",
      "\n",
      " [ 0.  0.  0. 12. 13.  5.  0.  0.  0.  0.  0. 11. 16.  9.  0.  0.  0.  0.\n",
      "  3. 15. 16.  6.  0.  0.  0.  7. 15. 16. 16.  2.  0.  0.  0.  0.  1. 16.\n",
      " 16.  3.  0.  0.  0.  0.  1. 16. 16.  6.  0.  0.  0.  0.  1. 16. 16.  6.\n",
      "  0.  0.  0.  0.  0. 11. 16. 10.  0.  0.]\n"
     ]
    }
   ],
   "source": [
    "import random\n",
    "from sklearn import ensemble\n",
    "\n",
    "#Define variables\n",
    "n_samples = len(digits.images)\n",
    "print(digits.images[1])\n",
    "x = digits.images.reshape((n_samples, -1))\n",
    "print('\\n',x[1])\n",
    "y = digits.target"
   ]
  },
  {
   "cell_type": "code",
   "execution_count": 30,
   "metadata": {},
   "outputs": [
    {
     "data": {
      "text/plain": [
       "[838,\n",
       " 1628,\n",
       " 1436,\n",
       " 1598,\n",
       " 5,\n",
       " 470,\n",
       " 588,\n",
       " 1543,\n",
       " 459,\n",
       " 1275,\n",
       " 1366,\n",
       " 21,\n",
       " 914,\n",
       " 1090,\n",
       " 1020,\n",
       " 1327,\n",
       " 548,\n",
       " 1743,\n",
       " 72,\n",
       " 1369,\n",
       " 71,\n",
       " 1081,\n",
       " 677,\n",
       " 873,\n",
       " 40,\n",
       " 1572,\n",
       " 1536,\n",
       " 883,\n",
       " 706,\n",
       " 590,\n",
       " 1688,\n",
       " 1421,\n",
       " 913,\n",
       " 1714,\n",
       " 1764,\n",
       " 198,\n",
       " 497,\n",
       " 175,\n",
       " 525,\n",
       " 185,\n",
       " 135,\n",
       " 942,\n",
       " 1032,\n",
       " 1707,\n",
       " 554,\n",
       " 1038,\n",
       " 1245,\n",
       " 1749,\n",
       " 802,\n",
       " 446,\n",
       " 178,\n",
       " 1295,\n",
       " 1220,\n",
       " 330,\n",
       " 1290,\n",
       " 727,\n",
       " 1027,\n",
       " 709,\n",
       " 720,\n",
       " 594,\n",
       " 1752,\n",
       " 632,\n",
       " 1004,\n",
       " 1492,\n",
       " 1738,\n",
       " 1727,\n",
       " 630,\n",
       " 1113,\n",
       " 221,\n",
       " 101,\n",
       " 1496,\n",
       " 403,\n",
       " 1488,\n",
       " 1277,\n",
       " 197,\n",
       " 629,\n",
       " 169,\n",
       " 1794,\n",
       " 647,\n",
       " 410,\n",
       " 650,\n",
       " 1100,\n",
       " 126,\n",
       " 125,\n",
       " 793,\n",
       " 792,\n",
       " 1080,\n",
       " 1643,\n",
       " 782,\n",
       " 1064,\n",
       " 133,\n",
       " 276,\n",
       " 1308,\n",
       " 513,\n",
       " 1000,\n",
       " 581,\n",
       " 259,\n",
       " 607,\n",
       " 1652,\n",
       " 1206,\n",
       " 1088,\n",
       " 874,\n",
       " 770,\n",
       " 964,\n",
       " 1530,\n",
       " 875,\n",
       " 954,\n",
       " 1599,\n",
       " 1557,\n",
       " 1789,\n",
       " 716,\n",
       " 301,\n",
       " 606,\n",
       " 450,\n",
       " 567,\n",
       " 476,\n",
       " 305,\n",
       " 378,\n",
       " 1760,\n",
       " 1422,\n",
       " 707,\n",
       " 710,\n",
       " 1533,\n",
       " 545,\n",
       " 216,\n",
       " 108,\n",
       " 70,\n",
       " 1783,\n",
       " 1541,\n",
       " 1060,\n",
       " 1784,\n",
       " 761,\n",
       " 1631,\n",
       " 42,\n",
       " 141,\n",
       " 1294,\n",
       " 1255,\n",
       " 524,\n",
       " 274,\n",
       " 97,\n",
       " 1660,\n",
       " 1618,\n",
       " 1287,\n",
       " 1529,\n",
       " 508,\n",
       " 1222,\n",
       " 909,\n",
       " 1659,\n",
       " 1341,\n",
       " 300,\n",
       " 528,\n",
       " 972,\n",
       " 76,\n",
       " 613,\n",
       " 1580,\n",
       " 579,\n",
       " 105,\n",
       " 532,\n",
       " 519,\n",
       " 1526,\n",
       " 1721,\n",
       " 1246,\n",
       " 584,\n",
       " 1622,\n",
       " 969,\n",
       " 705,\n",
       " 1068,\n",
       " 27,\n",
       " 1128,\n",
       " 1298,\n",
       " 1470,\n",
       " 1782,\n",
       " 458,\n",
       " 646,\n",
       " 120,\n",
       " 119,\n",
       " 933,\n",
       " 184,\n",
       " 48,\n",
       " 1180,\n",
       " 1627,\n",
       " 635,\n",
       " 390,\n",
       " 1601,\n",
       " 1658,\n",
       " 547,\n",
       " 1391,\n",
       " 1437,\n",
       " 374,\n",
       " 428,\n",
       " 697,\n",
       " 811,\n",
       " 1767,\n",
       " 37,\n",
       " 426,\n",
       " 965,\n",
       " 726,\n",
       " 1072,\n",
       " 976,\n",
       " 1311,\n",
       " 306,\n",
       " 1381,\n",
       " 1284,\n",
       " 400,\n",
       " 749,\n",
       " 1644,\n",
       " 1595,\n",
       " 698,\n",
       " 424,\n",
       " 399,\n",
       " 1556,\n",
       " 321,\n",
       " 1293,\n",
       " 154,\n",
       " 1545,\n",
       " 1673,\n",
       " 1680,\n",
       " 362,\n",
       " 414,\n",
       " 911,\n",
       " 1197,\n",
       " 364,\n",
       " 661,\n",
       " 79,\n",
       " 1097,\n",
       " 367,\n",
       " 517,\n",
       " 1670,\n",
       " 1624,\n",
       " 1023,\n",
       " 541,\n",
       " 1611,\n",
       " 1085,\n",
       " 239,\n",
       " 1539,\n",
       " 350,\n",
       " 1614,\n",
       " 823,\n",
       " 863,\n",
       " 653,\n",
       " 7,\n",
       " 506,\n",
       " 1761,\n",
       " 157,\n",
       " 342,\n",
       " 90,\n",
       " 915,\n",
       " 1763,\n",
       " 1402,\n",
       " 293,\n",
       " 537,\n",
       " 1587,\n",
       " 535,\n",
       " 1479,\n",
       " 1309,\n",
       " 167,\n",
       " 612,\n",
       " 700,\n",
       " 967,\n",
       " 253,\n",
       " 1425,\n",
       " 147,\n",
       " 1790,\n",
       " 813,\n",
       " 1655,\n",
       " 829,\n",
       " 1037,\n",
       " 182,\n",
       " 87,\n",
       " 828,\n",
       " 1657,\n",
       " 960,\n",
       " 1321,\n",
       " 1779,\n",
       " 338,\n",
       " 510,\n",
       " 395,\n",
       " 1602,\n",
       " 1163,\n",
       " 1006,\n",
       " 1465,\n",
       " 1755,\n",
       " 1244,\n",
       " 60,\n",
       " 295,\n",
       " 1765,\n",
       " 195,\n",
       " 1653,\n",
       " 78,\n",
       " 1205,\n",
       " 1352,\n",
       " 75,\n",
       " 325,\n",
       " 924,\n",
       " 288,\n",
       " 852,\n",
       " 486,\n",
       " 1723,\n",
       " 1700,\n",
       " 278,\n",
       " 1744,\n",
       " 1440,\n",
       " 160,\n",
       " 926,\n",
       " 45,\n",
       " 383,\n",
       " 351,\n",
       " 1221,\n",
       " 880,\n",
       " 1450,\n",
       " 851,\n",
       " 1358,\n",
       " 1208,\n",
       " 1050,\n",
       " 1107,\n",
       " 1083,\n",
       " 177,\n",
       " 1696,\n",
       " 382,\n",
       " 536,\n",
       " 59,\n",
       " 1087,\n",
       " 1360,\n",
       " 1686,\n",
       " 765,\n",
       " 456,\n",
       " 1531,\n",
       " 1502,\n",
       " 568,\n",
       " 1099,\n",
       " 489,\n",
       " 502,\n",
       " 1549,\n",
       " 408,\n",
       " 1035,\n",
       " 520,\n",
       " 116,\n",
       " 211,\n",
       " 892,\n",
       " 375,\n",
       " 685,\n",
       " 577,\n",
       " 1343,\n",
       " 324,\n",
       " 862,\n",
       " 920,\n",
       " 33,\n",
       " 559,\n",
       " 992,\n",
       " 1566,\n",
       " 844,\n",
       " 768,\n",
       " 980,\n",
       " 1377,\n",
       " 322,\n",
       " 824,\n",
       " 223,\n",
       " 1734,\n",
       " 179]"
      ]
     },
     "execution_count": 30,
     "metadata": {},
     "output_type": "execute_result"
    }
   ],
   "source": [
    "random.sample(range(len(x)),int(len(x)/5))"
   ]
  },
  {
   "cell_type": "code",
   "execution_count": 32,
   "metadata": {},
   "outputs": [
    {
     "name": "stderr",
     "output_type": "stream",
     "text": [
      "/home/leticia/miniconda3/envs/ambi/lib/python3.7/site-packages/sklearn/ensemble/forest.py:245: FutureWarning: The default value of n_estimators will change from 10 in version 0.20 to 100 in 0.22.\n",
      "  \"10 in version 0.20 to 100 in 0.22.\", FutureWarning)\n"
     ]
    },
    {
     "name": "stdout",
     "output_type": "stream",
     "text": [
      "Random Tree Classifier:\n",
      "\n",
      "Score\t0.8866481223922114\n"
     ]
    }
   ],
   "source": [
    "#Create random indices \n",
    "sample_index=random.sample(range(len(x)),int(len(x)/5)) #20-80\n",
    "valid_index=[i for i in range(len(x)) if i not in sample_index]\n",
    "\n",
    "#Sample and validation images\n",
    "sample_images=[x[i] for i in sample_index]\n",
    "valid_images=[x[i] for i in valid_index]\n",
    "\n",
    "#Sample and validation targets\n",
    "sample_target=[y[i] for i in sample_index]\n",
    "valid_target=[y[i] for i in valid_index]\n",
    "\n",
    "#Using the Random Forest Classifier\n",
    "classifier = ensemble.RandomForestClassifier()\n",
    "\n",
    "#Fit model with sample data\n",
    "classifier.fit(sample_images, sample_target)\n",
    "\n",
    "#Attempt to predict validation data\n",
    "score=classifier.score(valid_images, valid_target)\n",
    "print('Random Tree Classifier:\\n')\n",
    "print ('Score\\t'+str(score))"
   ]
  },
  {
   "cell_type": "code",
   "execution_count": 49,
   "metadata": {},
   "outputs": [
    {
     "name": "stdout",
     "output_type": "stream",
     "text": [
      "64\n"
     ]
    },
    {
     "data": {
      "text/plain": [
       "<Figure size 432x288 with 0 Axes>"
      ]
     },
     "metadata": {},
     "output_type": "display_data"
    },
    {
     "data": {
      "image/png": "[encoded data removed]",
      "text/plain": [
       "<Figure size 288x288 with 1 Axes>"
      ]
     },
     "metadata": {
      "needs_background": "light"
     },
     "output_type": "display_data"
    },
    {
     "name": "stdout",
     "output_type": "stream",
     "text": [
      "64\n"
     ]
    },
    {
     "ename": "ValueError",
     "evalue": "Expected 2D array, got 1D array instead:\narray=[ 0.  0.  1.  8. 15. 10.  0.  0.  0.  3. 13. 15. 14. 14.  0.  0.  0.  5.\n 10.  0. 10. 12.  0.  0.  0.  0.  3.  5. 15. 10.  2.  0.  0.  0. 16. 16.\n 16. 16. 12.  0.  0.  1.  8. 12. 14.  8.  3.  0.  0.  0.  0. 10. 13.  0.\n  0.  0.  0.  0.  0. 11.  9.  0.  0.  0.].\nReshape your data either using array.reshape(-1, 1) if your data has a single feature or array.reshape(1, -1) if it contains a single sample.",
     "output_type": "error",
     "traceback": [
      "\u001b[0;31m---------------------------------------------------------------------------\u001b[0m",
      "\u001b[0;31mValueError\u001b[0m                                Traceback (most recent call last)",
      "\u001b[0;32m<ipython-input-49-3e0eab838e47>\u001b[0m in \u001b[0;36m<module>\u001b[0;34m\u001b[0m\n\u001b[1;32m      6\u001b[0m \u001b[0;34m\u001b[0m\u001b[0m\n\u001b[1;32m      7\u001b[0m \u001b[0mprint\u001b[0m\u001b[0;34m(\u001b[0m\u001b[0mlen\u001b[0m\u001b[0;34m(\u001b[0m\u001b[0mx\u001b[0m\u001b[0;34m[\u001b[0m\u001b[0mi\u001b[0m\u001b[0;34m]\u001b[0m\u001b[0;34m)\u001b[0m\u001b[0;34m)\u001b[0m\u001b[0;34m\u001b[0m\u001b[0;34m\u001b[0m\u001b[0m\n\u001b[0;32m----> 8\u001b[0;31m \u001b[0mclassifier\u001b[0m\u001b[0;34m.\u001b[0m\u001b[0mpredict\u001b[0m\u001b[0;34m(\u001b[0m\u001b[0mx\u001b[0m\u001b[0;34m[\u001b[0m\u001b[0mi\u001b[0m\u001b[0;34m]\u001b[0m\u001b[0;34m)\u001b[0m\u001b[0;34m\u001b[0m\u001b[0;34m\u001b[0m\u001b[0m\n\u001b[0m",
      "\u001b[0;32m~/miniconda3/envs/ambi/lib/python3.7/site-packages/sklearn/ensemble/forest.py\u001b[0m in \u001b[0;36mpredict\u001b[0;34m(self, X)\u001b[0m\n\u001b[1;32m    543\u001b[0m             \u001b[0mThe\u001b[0m \u001b[0mpredicted\u001b[0m \u001b[0mclasses\u001b[0m\u001b[0;34m.\u001b[0m\u001b[0;34m\u001b[0m\u001b[0;34m\u001b[0m\u001b[0m\n\u001b[1;32m    544\u001b[0m         \"\"\"\n\u001b[0;32m--> 545\u001b[0;31m         \u001b[0mproba\u001b[0m \u001b[0;34m=\u001b[0m \u001b[0mself\u001b[0m\u001b[0;34m.\u001b[0m\u001b[0mpredict_proba\u001b[0m\u001b[0;34m(\u001b[0m\u001b[0mX\u001b[0m\u001b[0;34m)\u001b[0m\u001b[0;34m\u001b[0m\u001b[0;34m\u001b[0m\u001b[0m\n\u001b[0m\u001b[1;32m    546\u001b[0m \u001b[0;34m\u001b[0m\u001b[0m\n\u001b[1;32m    547\u001b[0m         \u001b[0;32mif\u001b[0m \u001b[0mself\u001b[0m\u001b[0;34m.\u001b[0m\u001b[0mn_outputs_\u001b[0m \u001b[0;34m==\u001b[0m \u001b[0;36m1\u001b[0m\u001b[0;34m:\u001b[0m\u001b[0;34m\u001b[0m\u001b[0;34m\u001b[0m\u001b[0m\n",
      "\u001b[0;32m~/miniconda3/envs/ambi/lib/python3.7/site-packages/sklearn/ensemble/forest.py\u001b[0m in \u001b[0;36mpredict_proba\u001b[0;34m(self, X)\u001b[0m\n\u001b[1;32m    586\u001b[0m         \u001b[0mcheck_is_fitted\u001b[0m\u001b[0;34m(\u001b[0m\u001b[0mself\u001b[0m\u001b[0;34m,\u001b[0m \u001b[0;34m'estimators_'\u001b[0m\u001b[0;34m)\u001b[0m\u001b[0;34m\u001b[0m\u001b[0;34m\u001b[0m\u001b[0m\n\u001b[1;32m    587\u001b[0m         \u001b[0;31m# Check data\u001b[0m\u001b[0;34m\u001b[0m\u001b[0;34m\u001b[0m\u001b[0;34m\u001b[0m\u001b[0m\n\u001b[0;32m--> 588\u001b[0;31m         \u001b[0mX\u001b[0m \u001b[0;34m=\u001b[0m \u001b[0mself\u001b[0m\u001b[0;34m.\u001b[0m\u001b[0m_validate_X_predict\u001b[0m\u001b[0;34m(\u001b[0m\u001b[0mX\u001b[0m\u001b[0;34m)\u001b[0m\u001b[0;34m\u001b[0m\u001b[0;34m\u001b[0m\u001b[0m\n\u001b[0m\u001b[1;32m    589\u001b[0m \u001b[0;34m\u001b[0m\u001b[0m\n\u001b[1;32m    590\u001b[0m         \u001b[0;31m# Assign chunk of trees to jobs\u001b[0m\u001b[0;34m\u001b[0m\u001b[0;34m\u001b[0m\u001b[0;34m\u001b[0m\u001b[0m\n",
      "\u001b[0;32m~/miniconda3/envs/ambi/lib/python3.7/site-packages/sklearn/ensemble/forest.py\u001b[0m in \u001b[0;36m_validate_X_predict\u001b[0;34m(self, X)\u001b[0m\n\u001b[1;32m    357\u001b[0m                                  \"call `fit` before exploiting the model.\")\n\u001b[1;32m    358\u001b[0m \u001b[0;34m\u001b[0m\u001b[0m\n\u001b[0;32m--> 359\u001b[0;31m         \u001b[0;32mreturn\u001b[0m \u001b[0mself\u001b[0m\u001b[0;34m.\u001b[0m\u001b[0mestimators_\u001b[0m\u001b[0;34m[\u001b[0m\u001b[0;36m0\u001b[0m\u001b[0;34m]\u001b[0m\u001b[0;34m.\u001b[0m\u001b[0m_validate_X_predict\u001b[0m\u001b[0;34m(\u001b[0m\u001b[0mX\u001b[0m\u001b[0;34m,\u001b[0m \u001b[0mcheck_input\u001b[0m\u001b[0;34m=\u001b[0m\u001b[0;32mTrue\u001b[0m\u001b[0;34m)\u001b[0m\u001b[0;34m\u001b[0m\u001b[0;34m\u001b[0m\u001b[0m\n\u001b[0m\u001b[1;32m    360\u001b[0m \u001b[0;34m\u001b[0m\u001b[0m\n\u001b[1;32m    361\u001b[0m     \u001b[0;34m@\u001b[0m\u001b[0mproperty\u001b[0m\u001b[0;34m\u001b[0m\u001b[0;34m\u001b[0m\u001b[0m\n",
      "\u001b[0;32m~/miniconda3/envs/ambi/lib/python3.7/site-packages/sklearn/tree/tree.py\u001b[0m in \u001b[0;36m_validate_X_predict\u001b[0;34m(self, X, check_input)\u001b[0m\n\u001b[1;32m    389\u001b[0m         \u001b[0;34m\"\"\"Validate X whenever one tries to predict, apply, predict_proba\"\"\"\u001b[0m\u001b[0;34m\u001b[0m\u001b[0;34m\u001b[0m\u001b[0m\n\u001b[1;32m    390\u001b[0m         \u001b[0;32mif\u001b[0m \u001b[0mcheck_input\u001b[0m\u001b[0;34m:\u001b[0m\u001b[0;34m\u001b[0m\u001b[0;34m\u001b[0m\u001b[0m\n\u001b[0;32m--> 391\u001b[0;31m             \u001b[0mX\u001b[0m \u001b[0;34m=\u001b[0m \u001b[0mcheck_array\u001b[0m\u001b[0;34m(\u001b[0m\u001b[0mX\u001b[0m\u001b[0;34m,\u001b[0m \u001b[0mdtype\u001b[0m\u001b[0;34m=\u001b[0m\u001b[0mDTYPE\u001b[0m\u001b[0;34m,\u001b[0m \u001b[0maccept_sparse\u001b[0m\u001b[0;34m=\u001b[0m\u001b[0;34m\"csr\"\u001b[0m\u001b[0;34m)\u001b[0m\u001b[0;34m\u001b[0m\u001b[0;34m\u001b[0m\u001b[0m\n\u001b[0m\u001b[1;32m    392\u001b[0m             if issparse(X) and (X.indices.dtype != np.intc or\n\u001b[1;32m    393\u001b[0m                                 X.indptr.dtype != np.intc):\n",
      "\u001b[0;32m~/miniconda3/envs/ambi/lib/python3.7/site-packages/sklearn/utils/validation.py\u001b[0m in \u001b[0;36mcheck_array\u001b[0;34m(array, accept_sparse, accept_large_sparse, dtype, order, copy, force_all_finite, ensure_2d, allow_nd, ensure_min_samples, ensure_min_features, warn_on_dtype, estimator)\u001b[0m\n\u001b[1;32m    519\u001b[0m                     \u001b[0;34m\"Reshape your data either using array.reshape(-1, 1) if \"\u001b[0m\u001b[0;34m\u001b[0m\u001b[0;34m\u001b[0m\u001b[0m\n\u001b[1;32m    520\u001b[0m                     \u001b[0;34m\"your data has a single feature or array.reshape(1, -1) \"\u001b[0m\u001b[0;34m\u001b[0m\u001b[0;34m\u001b[0m\u001b[0m\n\u001b[0;32m--> 521\u001b[0;31m                     \"if it contains a single sample.\".format(array))\n\u001b[0m\u001b[1;32m    522\u001b[0m \u001b[0;34m\u001b[0m\u001b[0m\n\u001b[1;32m    523\u001b[0m         \u001b[0;31m# in the future np.flexible dtypes will be handled like object dtypes\u001b[0m\u001b[0;34m\u001b[0m\u001b[0;34m\u001b[0m\u001b[0;34m\u001b[0m\u001b[0m\n",
      "\u001b[0;31mValueError\u001b[0m: Expected 2D array, got 1D array instead:\narray=[ 0.  0.  1.  8. 15. 10.  0.  0.  0.  3. 13. 15. 14. 14.  0.  0.  0.  5.\n 10.  0. 10. 12.  0.  0.  0.  0.  3.  5. 15. 10.  2.  0.  0.  0. 16. 16.\n 16. 16. 12.  0.  0.  1.  8. 12. 14.  8.  3.  0.  0.  0.  0. 10. 13.  0.\n  0.  0.  0.  0.  0. 11.  9.  0.  0.  0.].\nReshape your data either using array.reshape(-1, 1) if your data has a single feature or array.reshape(1, -1) if it contains a single sample."
     ]
    }
   ],
   "source": [
    "i=17\n",
    "print(len(x[i]))\n",
    "pl.gray() \n",
    "pl.matshow(digits.images[i]) \n",
    "pl.show() \n",
    "\n",
    "print(len(x[i]))\n",
    "classifier.predict(x[i])"
   ]
  },
  {
   "cell_type": "code",
   "execution_count": null,
   "metadata": {},
   "outputs": [],
   "source": []
  }
 ],
 "metadata": {
  "anaconda-cloud": {},
  "kernelspec": {
   "display_name": "Python [conda env:ambi] *",
   "language": "python",
   "name": "conda-env-ambi-py"
  },
  "language_info": {
   "codemirror_mode": {
    "name": "ipython",
    "version": 3
   },
   "file_extension": ".py",
   "mimetype": "text/x-python",
   "name": "python",
   "nbconvert_exporter": "python",
   "pygments_lexer": "ipython3",
   "version": "3.7.4"
  }
 },
 "nbformat": 4,
 "nbformat_minor": 1
}
